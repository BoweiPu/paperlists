{
 "cells": [
  {
   "cell_type": "code",
   "execution_count": 1,
   "metadata": {},
   "outputs": [],
   "source": [
    "import json\n",
    "eccv24_paperlist=json.load(open('eccv2024.json'))"
   ]
  },
  {
   "cell_type": "code",
   "execution_count": 2,
   "metadata": {},
   "outputs": [],
   "source": [
    "from bs4 import BeautifulSoup\n",
    "import requests\n",
    "\n",
    "# 获取网页内容\n",
    "\n",
    "def get_abs(url):\n",
    "    response = requests.get(url)\n",
    "    html_content = response.content\n",
    "\n",
    "    # 解析HTML\n",
    "    soup = BeautifulSoup(html_content, 'html.parser')\n",
    "\n",
    "    # 查找指定ID的元素\n",
    "    element = soup.find(id=\"abstractExample\")\n",
    "    if element:\n",
    "        # 获取文本内容，去除前缀和不必要的字符\n",
    "        return element.get_text(strip=True).replace('Abstract:', '')\n",
    "    else:\n",
    "        return ''\n",
    "\n"
   ]
  },
  {
   "cell_type": "code",
   "execution_count": null,
   "metadata": {},
   "outputs": [],
   "source": []
  },
  {
   "cell_type": "code",
   "execution_count": 3,
   "metadata": {},
   "outputs": [
    {
     "name": "stderr",
     "output_type": "stream",
     "text": [
      "Fetching Abstracts: 100%|██████████| 2387/2387 [05:56<00:00,  6.70it/s]\n"
     ]
    }
   ],
   "source": [
    "from concurrent.futures import ThreadPoolExecutor, as_completed\n",
    "from tqdm import tqdm\n",
    "# 假设 eccv24_paperlist 是包含字典的列表，每个字典代表一篇论文，且包含 'site' 键\n",
    "# 假设 get_abs(site) 是一个函数，给定 site URL 返回该页面的摘要内容\n",
    "\n",
    "def fetch_abstract(item):\n",
    "    site = item['site']\n",
    "    abs = get_abs(site)\n",
    "    item['abstract'] = abs\n",
    "    return item\n",
    "excel_res=[]\n",
    "# 使用多线程来处理每个论文\n",
    "with ThreadPoolExecutor() as executor:\n",
    "    # 提交任务并获取结果\n",
    "    futures = [executor.submit(fetch_abstract, item) for item in eccv24_paperlist]\n",
    "    \n",
    "    for future in tqdm(as_completed(futures), total=len(futures), desc=\"Fetching Abstracts\"):\n",
    "        item = future.result()\n",
    "        #print(item)  # 打印更新后的项\n",
    "        excel_res.append(item)\n"
   ]
  },
  {
   "cell_type": "code",
   "execution_count": 6,
   "metadata": {},
   "outputs": [
    {
     "name": "stdout",
     "output_type": "stream",
     "text": [
      "数据已成功保存到 eccv24.xlsx\n"
     ]
    }
   ],
   "source": [
    "import json\n",
    "import pandas as pd\n",
    "\n",
    "# 读取 JSON 文件\n",
    "\n",
    "# 指定关键词\n",
    "keywords = [\"title\", \"github\", \"abstract\",'status','site','project']  # 将此处替换为实际的关键词\n",
    "\n",
    "# 提取指定关键词的数据\n",
    "extracted_data = []\n",
    "for item in excel_res:\n",
    "    extracted_item = {key: item.get(key, 'None') for key in keywords}\n",
    "    extracted_data.append(extracted_item)\n",
    "\n",
    "# 转换为 DataFrame\n",
    "df = pd.DataFrame(extracted_data)\n",
    "\n",
    "# 保存为 Excel 文件\n",
    "df.to_excel('eccv24.xlsx', index=False)\n",
    "print(\"数据已成功保存到 eccv24.xlsx\")\n"
   ]
  }
 ],
 "metadata": {
  "kernelspec": {
   "display_name": "Python 3",
   "language": "python",
   "name": "python3"
  },
  "language_info": {
   "codemirror_mode": {
    "name": "ipython",
    "version": 3
   },
   "file_extension": ".py",
   "mimetype": "text/x-python",
   "name": "python",
   "nbconvert_exporter": "python",
   "pygments_lexer": "ipython3",
   "version": "3.11.5"
  }
 },
 "nbformat": 4,
 "nbformat_minor": 2
}

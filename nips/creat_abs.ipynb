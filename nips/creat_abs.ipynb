{
 "cells": [
  {
   "cell_type": "code",
   "execution_count": 1,
   "metadata": {},
   "outputs": [],
   "source": [
    "import json\n",
    "paperlist=json.load(open('nips2024.json'))"
   ]
  },
  {
   "cell_type": "code",
   "execution_count": 2,
   "metadata": {},
   "outputs": [],
   "source": [
    "from bs4 import BeautifulSoup\n",
    "import requests\n",
    "\n",
    "# 获取网页内容\n",
    "\n",
    "def get_abs(url):\n",
    "    response = requests.get(url)\n",
    "    html_content = response.content\n",
    "\n",
    "    # 解析HTML\n",
    "    soup = BeautifulSoup(html_content, 'html.parser')\n",
    "\n",
    "    # 查找指定ID的元素\n",
    "    element = soup.find(id=\"abstractExample\")\n",
    "    if element:\n",
    "        # 获取文本内容，去除前缀和不必要的字符\n",
    "        return element.get_text(strip=True).replace('Abstract:', '')\n",
    "    else:\n",
    "        return ''\n",
    "\n"
   ]
  },
  {
   "cell_type": "code",
   "execution_count": null,
   "metadata": {},
   "outputs": [],
   "source": []
  },
  {
   "cell_type": "code",
   "execution_count": 3,
   "metadata": {},
   "outputs": [
    {
     "name": "stdout",
     "output_type": "stream",
     "text": [
      "Loaded 4551 valid items from existing file.\n",
      "2 papers remaining to process.\n"
     ]
    },
    {
     "name": "stderr",
     "output_type": "stream",
     "text": [
      "Fetching Abstracts: 100%|██████████| 2/2 [00:06<00:00,  3.32s/it]\n"
     ]
    },
    {
     "name": "stdout",
     "output_type": "stream",
     "text": [
      "数据已成功保存到 nips2024.xlsx\n",
      "临时文件 nips2024_temp.xlsx 已删除。\n"
     ]
    }
   ],
   "source": [
    "from concurrent.futures import ThreadPoolExecutor, as_completed\n",
    "from tqdm import tqdm\n",
    "import pandas as pd\n",
    "import json\n",
    "import os\n",
    "\n",
    "# 假设 eccv24_paperlist 是包含字典的列表，每个字典代表一篇论文，且包含 'site' 键\n",
    "# 假设 get_abs(site) 是一个函数，给定 site URL 返回该页面的摘要内容\n",
    "\n",
    "def fetch_abstract(item):\n",
    "    site = item['site']\n",
    "    try:\n",
    "        abs_text = get_abs(site)\n",
    "        item['abstract'] = abs_text\n",
    "    except Exception as e:\n",
    "        print(f\"Error fetching abstract for site {site}: {e}\")\n",
    "        item['abstract'] = 'Error'\n",
    "    return item\n",
    "\n",
    "# 指定关键词\n",
    "keywords = [\"title\", \"github\", \"abstract\", \"status\", \"site\", \"project\"]\n",
    "\n",
    "# 中间结果文件名\n",
    "temp_file = 'nips2024_temp.xlsx'\n",
    "output_file = 'nips2024.xlsx'\n",
    "\n",
    "# 读取已保存的中间结果（如果存在）\n",
    "if os.path.exists(temp_file):\n",
    "    df_existing = pd.read_excel(temp_file)\n",
    "\n",
    "    # 排除 abstract 为 'Error' 的条目\n",
    "    df_existing = df_existing[df_existing['abstract'] != 'Error']\n",
    "    processed_sites = set(df_existing['site'].tolist())\n",
    "    excel_res = df_existing.to_dict(orient='records')\n",
    "    print(f\"Loaded {len(excel_res)} valid items from existing file.\")\n",
    "else:\n",
    "    processed_sites = set()\n",
    "    excel_res = []\n",
    "\n",
    "# 筛选出未处理的论文列表\n",
    "remaining_papers = [item for item in paperlist if item['site'] not in processed_sites]\n",
    "print(f\"{len(remaining_papers)} papers remaining to process.\")\n",
    "\n",
    "# 使用多线程来处理每个论文\n",
    "with ThreadPoolExecutor() as executor:\n",
    "    futures = [executor.submit(fetch_abstract, item) for item in remaining_papers]\n",
    "    \n",
    "    for future in tqdm(as_completed(futures), total=len(futures), desc=\"Fetching Abstracts\"):\n",
    "        item = future.result()\n",
    "        excel_res.append(item)\n",
    "\n",
    "        # 实时保存中间结果\n",
    "        extracted_data = [{key: i.get(key, 'None') for key in keywords} for i in excel_res]\n",
    "        df_temp = pd.DataFrame(extracted_data)\n",
    "        df_temp.to_excel(temp_file, index=False)\n",
    "\n",
    "# 最后一次保存完整结果为 Excel 文件\n",
    "df_final = pd.DataFrame(extracted_data)\n",
    "df_final.to_excel(output_file, index=False)\n",
    "print(f\"数据已成功保存到 {output_file}\")\n",
    "\n",
    "# 删除中间结果文件\n",
    "if os.path.exists(temp_file):\n",
    "    os.remove(temp_file)\n",
    "    print(f\"临时文件 {temp_file} 已删除。\")\n"
   ]
  }
 ],
 "metadata": {
  "kernelspec": {
   "display_name": "base",
   "language": "python",
   "name": "python3"
  },
  "language_info": {
   "codemirror_mode": {
    "name": "ipython",
    "version": 3
   },
   "file_extension": ".py",
   "mimetype": "text/x-python",
   "name": "python",
   "nbconvert_exporter": "python",
   "pygments_lexer": "ipython3",
   "version": "3.11.5"
  }
 },
 "nbformat": 4,
 "nbformat_minor": 2
}
